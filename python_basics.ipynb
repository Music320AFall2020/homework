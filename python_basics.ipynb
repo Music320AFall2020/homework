{
 "cells": [
  {
   "cell_type": "markdown",
   "metadata": {},
   "source": [
    "# Python Basics and Dependencies"
   ]
  },
  {
   "cell_type": "markdown",
   "metadata": {},
   "source": [
    "We will be using Python 3.6+ in this class. \n",
    "\n",
    "If you’re totally new, the simplest solution is to download and install <a href=\"https://www.continuum.io/downloads\">Anaconda for Python 3.x</a>"
   ]
  },
  {
   "cell_type": "markdown",
   "metadata": {},
   "source": [
    "In order to run this notebook, you will need to install the following libraries\n",
    "* jupyter\n",
    "* numpy\n",
    "* scipy\n"
   ]
  },
  {
   "cell_type": "markdown",
   "metadata": {},
   "source": [
    "### Interactive Shell\n",
    "\n",
    "This jupyter notebook provides you with an interactive shell with individual cells. Run the commands below to understand the power of jupyter notebooks"
   ]
  },
  {
   "cell_type": "code",
   "execution_count": 4,
   "metadata": {},
   "outputs": [],
   "source": [
    "# Comments in python start with #"
   ]
  },
  {
   "cell_type": "code",
   "execution_count": 5,
   "metadata": {},
   "outputs": [
    {
     "name": "stdout",
     "output_type": "stream",
     "text": [
      "Hello World\n"
     ]
    }
   ],
   "source": [
    "# If you want to print something just print it!\n",
    "print('Hello World')"
   ]
  },
  {
   "cell_type": "code",
   "execution_count": 6,
   "metadata": {},
   "outputs": [
    {
     "data": {
      "text/plain": [
       "9"
      ]
     },
     "execution_count": 6,
     "metadata": {},
     "output_type": "execute_result"
    }
   ],
   "source": [
    "# Python recognizes some basic data types such as ints, floats and strings. Being an interpreted language\n",
    "# it 'interprets' the type from the data itself\n",
    "4 + 5"
   ]
  },
  {
   "cell_type": "code",
   "execution_count": 11,
   "metadata": {},
   "outputs": [
    {
     "data": {
      "text/plain": [
       "1.0"
      ]
     },
     "execution_count": 11,
     "metadata": {},
     "output_type": "execute_result"
    }
   ],
   "source": [
    "# The math package provides some basic math functionality that you can use but it's pretty limited. \n",
    "import math\n",
    "math.sin(math.pi/2)"
   ]
  },
  {
   "cell_type": "code",
   "execution_count": 17,
   "metadata": {},
   "outputs": [
    {
     "name": "stdout",
     "output_type": "stream",
     "text": [
      "3.5e\n"
     ]
    },
    {
     "ename": "TypeError",
     "evalue": "unsupported operand type(s) for +: 'float' and 'str'",
     "output_type": "error",
     "traceback": [
      "\u001b[0;31m---------------------------------------------------------------------------\u001b[0m",
      "\u001b[0;31mTypeError\u001b[0m                                 Traceback (most recent call last)",
      "\u001b[0;32m<ipython-input-17-1d963f232846>\u001b[0m in \u001b[0;36m<module>\u001b[0;34m\u001b[0m\n\u001b[1;32m      4\u001b[0m \u001b[0;34m\u001b[0m\u001b[0m\n\u001b[1;32m      5\u001b[0m \u001b[0;31m# This throws an TypeError\u001b[0m\u001b[0;34m\u001b[0m\u001b[0;34m\u001b[0m\u001b[0;34m\u001b[0m\u001b[0m\n\u001b[0;32m----> 6\u001b[0;31m \u001b[0mprint\u001b[0m\u001b[0;34m(\u001b[0m\u001b[0;36m3.5\u001b[0m \u001b[0;34m+\u001b[0m \u001b[0;34m'e'\u001b[0m\u001b[0;34m)\u001b[0m\u001b[0;34m\u001b[0m\u001b[0;34m\u001b[0m\u001b[0m\n\u001b[0m",
      "\u001b[0;31mTypeError\u001b[0m: unsupported operand type(s) for +: 'float' and 'str'"
     ]
    }
   ],
   "source": [
    "# Mixing data types is not automatic despite being interpreted\n",
    "# Mixing requires explicit cast\n",
    "print(str(3.5) + 'e')\n",
    "\n",
    "# This throws an TypeError\n",
    "print(3.5 + 'e')"
   ]
  },
  {
   "cell_type": "markdown",
   "metadata": {},
   "source": [
    "### Lists\n",
    "Lists are very powerful in Python"
   ]
  },
  {
   "cell_type": "code",
   "execution_count": 22,
   "metadata": {},
   "outputs": [
    {
     "name": "stdout",
     "output_type": "stream",
     "text": [
      "3\n",
      "[1, 2, 3, 4, 5]\n"
     ]
    }
   ],
   "source": [
    "# you can create a list by simply entering a list of values\n",
    "a = [1,2,3,4,5]\n",
    "print(a[2]) # array indexes are 0-based*\n",
    "print(a)"
   ]
  },
  {
   "cell_type": "code",
   "execution_count": 25,
   "metadata": {},
   "outputs": [
    {
     "name": "stdout",
     "output_type": "stream",
     "text": [
      "[1, 2, 3, 4, 5, 1, 2, 3, 4, 5]\n"
     ]
    },
    {
     "ename": "TypeError",
     "evalue": "unsupported operand type(s) for -: 'list' and 'list'",
     "output_type": "error",
     "traceback": [
      "\u001b[0;31m---------------------------------------------------------------------------\u001b[0m",
      "\u001b[0;31mTypeError\u001b[0m                                 Traceback (most recent call last)",
      "\u001b[0;32m<ipython-input-25-0321bfe2edc0>\u001b[0m in \u001b[0;36m<module>\u001b[0;34m\u001b[0m\n\u001b[1;32m      4\u001b[0m \u001b[0;34m\u001b[0m\u001b[0m\n\u001b[1;32m      5\u001b[0m \u001b[0;31m# But you cannot 'subtract' lists\u001b[0m\u001b[0;34m\u001b[0m\u001b[0;34m\u001b[0m\u001b[0;34m\u001b[0m\u001b[0m\n\u001b[0;32m----> 6\u001b[0;31m \u001b[0mb\u001b[0m \u001b[0;34m=\u001b[0m \u001b[0mb\u001b[0m \u001b[0;34m-\u001b[0m \u001b[0ma\u001b[0m\u001b[0;34m\u001b[0m\u001b[0;34m\u001b[0m\u001b[0m\n\u001b[0m",
      "\u001b[0;31mTypeError\u001b[0m: unsupported operand type(s) for -: 'list' and 'list'"
     ]
    }
   ],
   "source": [
    "# 'adding' lists is same as appending\n",
    "b = a + a\n",
    "print(b)\n",
    "\n",
    "# But you cannot 'subtract' lists\n",
    "b = b - a"
   ]
  },
  {
   "cell_type": "markdown",
   "metadata": {},
   "source": [
    "### Using numpy and scipy"
   ]
  },
  {
   "cell_type": "code",
   "execution_count": 46,
   "metadata": {},
   "outputs": [
    {
     "name": "stdout",
     "output_type": "stream",
     "text": [
      "[ 0  1  2  3  4  5  6  7  8  9 10 11 12 13 14 15 16 17 18 19 20 21 22 23\n",
      " 24 25 26 27 28 29 30 31 32 33 34 35 36 37 38 39 40 41 42 43 44 45 46 47\n",
      " 48 49]\n",
      "[-0.54694497 -0.84276455 -0.19953095  0.08128554  0.8548674   0.25488936\n",
      "  0.71046642  0.78106482  2.81595008  1.1035374   0.23132527  1.67782983\n",
      " -1.20221655 -1.00820112  1.62632708  0.09538646  1.8690069  -1.13573142\n",
      " -0.36370605 -0.04318011 -0.63272578  0.80536723 -2.17215383 -0.38209666\n",
      " -1.59663625  0.22706799 -0.14432539 -0.76325855 -0.78491317  2.00601762\n",
      " -0.17329182  0.54295894 -0.40400668  1.12187583 -0.05632201 -1.44440517\n",
      " -0.44419885  0.06188882  0.74495042 -1.99503921  1.17516281  1.43258549\n",
      "  0.02679838 -0.57037655  0.63514093 -0.76156767 -1.27830297  1.75964664\n",
      " -0.11917694  0.04096826]\n",
      "[-100.  -96.  -92.  -88.  -84.  -80.  -76.  -72.  -68.  -64.  -60.  -56.\n",
      "  -52.  -48.  -44.  -40.  -36.  -32.  -28.  -24.  -20.  -16.  -12.   -8.\n",
      "   -4.    0.    4.    8.   12.   16.   20.   24.   28.   32.   36.   40.\n",
      "   44.   48.   52.   56.   60.   64.   68.   72.   76.   80.   84.   88.\n",
      "   92.   96.]\n"
     ]
    }
   ],
   "source": [
    "import numpy as np\n",
    "import scipy as sp\n",
    "\n",
    "x = np.arange(50)\n",
    "print(x)\n",
    "\n",
    "x = np.random.randn(50)\n",
    "print(x)\n",
    "\n",
    "x = np.linspace(-100, 100, 50, endpoint=False)\n",
    "print(x)"
   ]
  },
  {
   "cell_type": "code",
   "execution_count": 47,
   "metadata": {},
   "outputs": [
    {
     "name": "stdout",
     "output_type": "stream",
     "text": [
      "[10000.  9216.  8464.  7744.  7056.  6400.  5776.  5184.  4624.  4096.\n",
      "  3600.  3136.  2704.  2304.  1936.  1600.  1296.  1024.   784.   576.\n",
      "   400.   256.   144.    64.    16.     0.    16.    64.   144.   256.\n",
      "   400.   576.   784.  1024.  1296.  1600.  1936.  2304.  2704.  3136.\n",
      "  3600.  4096.  4624.  5184.  5776.  6400.  7056.  7744.  8464.  9216.]\n"
     ]
    }
   ],
   "source": [
    "# use list operations to directly compute \n",
    "y = x**2\n",
    "print(y)"
   ]
  },
  {
   "cell_type": "markdown",
   "metadata": {},
   "source": [
    "### More Python resources\n",
    "- [The Hitchhiker's Guide to Python](http://docs.python-guide.org/en/latest/),\n",
    "- [SciPy Lecture Notes](http://www.scipy-lectures.org/),\n",
    "- [Codecademy](http://www.codecademy.com/en/tracks/python),\n",
    "- [learnpython.org](http://www.learnpython.org/)"
   ]
  },
  {
   "cell_type": "markdown",
   "metadata": {},
   "source": [
    "### Using Matplotlib"
   ]
  },
  {
   "cell_type": "code",
   "execution_count": 48,
   "metadata": {},
   "outputs": [],
   "source": [
    "import matplotlib.pyplot as plt\n"
   ]
  },
  {
   "cell_type": "code",
   "execution_count": 49,
   "metadata": {},
   "outputs": [
    {
     "name": "stdout",
     "output_type": "stream",
     "text": [
      "[-100.  -96.  -92.  -88.  -84.  -80.  -76.  -72.  -68.  -64.  -60.  -56.\n",
      "  -52.  -48.  -44.  -40.  -36.  -32.  -28.  -24.  -20.  -16.  -12.   -8.\n",
      "   -4.    0.    4.    8.   12.   16.   20.   24.   28.   32.   36.   40.\n",
      "   44.   48.   52.   56.   60.   64.   68.   72.   76.   80.   84.   88.\n",
      "   92.   96.] [10000.  9216.  8464.  7744.  7056.  6400.  5776.  5184.  4624.  4096.\n",
      "  3600.  3136.  2704.  2304.  1936.  1600.  1296.  1024.   784.   576.\n",
      "   400.   256.   144.    64.    16.     0.    16.    64.   144.   256.\n",
      "   400.   576.   784.  1024.  1296.  1600.  1936.  2304.  2704.  3136.\n",
      "  3600.  4096.  4624.  5184.  5776.  6400.  7056.  7744.  8464.  9216.]\n"
     ]
    }
   ],
   "source": [
    "print(x, y)"
   ]
  },
  {
   "cell_type": "code",
   "execution_count": 50,
   "metadata": {},
   "outputs": [
    {
     "data": {
      "text/plain": [
       "[<matplotlib.lines.Line2D at 0x116c93c88>]"
      ]
     },
     "execution_count": 50,
     "metadata": {},
     "output_type": "execute_result"
    },
    {
     "data": {
      "image/png": "[encoded data removed]",
      "text/plain": [
       "<Figure size 432x288 with 1 Axes>"
      ]
     },
     "metadata": {
      "needs_background": "light"
     },
     "output_type": "display_data"
    }
   ],
   "source": [
    "plt.plot(x,y)"
   ]
  },
  {
   "cell_type": "code",
   "execution_count": 55,
   "metadata": {},
   "outputs": [
    {
     "name": "stdout",
     "output_type": "stream",
     "text": [
      "[0.         0.17453293 0.34906585 0.52359878 0.6981317  0.87266463\n",
      " 1.04719755 1.22173048 1.3962634  1.57079633 1.74532925 1.91986218\n",
      " 2.0943951  2.26892803 2.44346095 2.61799388 2.7925268  2.96705973\n",
      " 3.14159265 3.31612558 3.4906585  3.66519143 3.83972435 4.01425728\n",
      " 4.1887902  4.36332313 4.53785606 4.71238898 4.88692191 5.06145483\n",
      " 5.23598776 5.41052068 5.58505361 5.75958653 5.93411946 6.10865238]\n",
      "[1, 1, 1, 1, 1, 1, 1, 1, 1, 1, 1, 1, 1, 1, 1, 1, 1, 1, 1, 1, 1, 1, 1, 1, 1, 1, 1, 1, 1, 1, 1, 1, 1, 1, 1, 1]\n"
     ]
    }
   ],
   "source": [
    "# you can print polar coordinates too\n",
    "theta = np.linspace(0, 2*math.pi, 36,endpoint=False )\n",
    "print(theta)\n",
    "\n",
    "r = [1]*36\n",
    "print(r)"
   ]
  },
  {
   "cell_type": "code",
   "execution_count": 56,
   "metadata": {},
   "outputs": [
    {
     "ename": "AttributeError",
     "evalue": "'list' object has no attribute 'shape'",
     "output_type": "error",
     "traceback": [
      "\u001b[0;31m---------------------------------------------------------------------------\u001b[0m",
      "\u001b[0;31mAttributeError\u001b[0m                            Traceback (most recent call last)",
      "\u001b[0;32m<ipython-input-56-ec8584ebef26>\u001b[0m in \u001b[0;36m<module>\u001b[0;34m\u001b[0m\n\u001b[0;32m----> 1\u001b[0;31m \u001b[0mr\u001b[0m\u001b[0;34m.\u001b[0m\u001b[0mshape\u001b[0m\u001b[0;34m\u001b[0m\u001b[0;34m\u001b[0m\u001b[0m\n\u001b[0m",
      "\u001b[0;31mAttributeError\u001b[0m: 'list' object has no attribute 'shape'"
     ]
    }
   ],
   "source": [
    "r.shape"
   ]
  },
  {
   "cell_type": "code",
   "execution_count": 59,
   "metadata": {},
   "outputs": [
    {
     "data": {
      "text/plain": [
       "[<matplotlib.lines.Line2D at 0x117179128>]"
      ]
     },
     "execution_count": 59,
     "metadata": {},
     "output_type": "execute_result"
    },
    {
     "data": {
      "image/png": "[encoded data removed]",
      "text/plain": [
       "<Figure size 432x288 with 1 Axes>"
      ]
     },
     "metadata": {
      "needs_background": "light"
     },
     "output_type": "display_data"
    }
   ],
   "source": [
    "plt.polar(theta, r)"
   ]
  }
 ],
 "metadata": {
  "kernelspec": {
   "display_name": "Python 3",
   "language": "python",
   "name": "python3"
  },
  "language_info": {
   "codemirror_mode": {
    "name": "ipython",
    "version": 3
   },
   "file_extension": ".py",
   "mimetype": "text/x-python",
   "name": "python",
   "nbconvert_exporter": "python",
   "pygments_lexer": "ipython3",
   "version": "3.6.10"
  }
 },
 "nbformat": 4,
 "nbformat_minor": 1
}
